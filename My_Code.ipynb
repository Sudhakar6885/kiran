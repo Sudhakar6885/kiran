{
  "nbformat": 4,
  "nbformat_minor": 0,
  "metadata": {
    "accelerator": "GPU",
    "colab": {
      "name": "My_Work(1).ipynb",
      "provenance": [],
      "collapsed_sections": []
    },
    "kernelspec": {
      "display_name": "Python 3",
      "name": "python3"
    },
    "language_info": {
      "name": "python"
    }
  },
  "cells": [
    {
      "cell_type": "code",
      "metadata": {
        "id": "329QJR1R1TFP"
      },
      "source": [
        "import os\n",
        "import tensorflow as tf\n",
        "from tensorflow.keras.applications.mobilenet_v2 import MobileNetV2,preprocess_input\n",
        "from tensorflow.keras.layers import Dense,Conv2D,GlobalAvgPool2D,Input\n",
        "from tensorflow.keras.preprocessing.image import load_img, ImageDataGenerator\n",
        "from tensorflow.keras import callbacks,optimizers\n",
        "import numpy as np\n",
        "from google.colab import drive"
      ],
      "execution_count": null,
      "outputs": []
    },
    {
      "cell_type": "code",
      "metadata": {
        "colab": {
          "base_uri": "https://localhost:8080/"
        },
        "id": "-iRfm6Fo3K6f",
        "outputId": "223bdee3-cc9a-4317-f433-280bce57d6eb"
      },
      "source": [
        "drive.mount('/content/drive')"
      ],
      "execution_count": null,
      "outputs": [
        {
          "output_type": "stream",
          "name": "stdout",
          "text": [
            "Mounted at /content/drive\n"
          ]
        }
      ]
    },
    {
      "cell_type": "code",
      "metadata": {
        "colab": {
          "base_uri": "https://localhost:8080/"
        },
        "id": "OspyKWPd3eDz",
        "outputId": "2c7d7735-5b99-4081-8c19-7effb1f8e4ea"
      },
      "source": [
        "%cd /content/drive/MyDrive/New Plant Diseases Dataset(Augmented)"
      ],
      "execution_count": null,
      "outputs": [
        {
          "output_type": "stream",
          "name": "stdout",
          "text": [
            "/content/drive/MyDrive/New Plant Diseases Dataset(Augmented)\n"
          ]
        }
      ]
    },
    {
      "cell_type": "code",
      "metadata": {
        "colab": {
          "base_uri": "https://localhost:8080/"
        },
        "id": "9AulEY2Y4Otq",
        "outputId": "2705315a-1cf6-4e20-b8cd-3abf41656c9d"
      },
      "source": [
        "for i in os.listdir(\"train\"):\n",
        "   print(i,len(os.listdir(\"train/\"+i)))\n"
      ],
      "execution_count": null,
      "outputs": [
        {
          "output_type": "stream",
          "name": "stdout",
          "text": [
            "Tomato___healthy 1926\n",
            "Tomato___Late_blight 1851\n",
            "Tomato___Target_Spot 1827\n",
            "Tomato___Leaf_Mold 1882\n",
            "Tomato___Bacterial_spot 1702\n",
            "Tomato___Early_blight 1920\n",
            "Tomato___Spider_mites Two-spotted_spider_mite 1741\n",
            "Tomato___Tomato_Yellow_Leaf_Curl_Virus 1961\n",
            "Tomato___Tomato_mosaic_virus 1790\n",
            "Tomato___Septoria_leaf_spot 1745\n"
          ]
        }
      ]
    },
    {
      "cell_type": "code",
      "metadata": {
        "colab": {
          "base_uri": "https://localhost:8080/"
        },
        "id": "_p4DgMxv8qU_",
        "outputId": "77c86202-9d05-450a-8f97-c53004d340fa"
      },
      "source": [
        "for i in os.listdir(\"valid\"):\n",
        "   print(i,len(os.listdir(\"valid/\"+i)))\n"
      ],
      "execution_count": null,
      "outputs": [
        {
          "output_type": "stream",
          "name": "stdout",
          "text": [
            "Tomato___Early_blight 480\n",
            "Tomato___Bacterial_spot 425\n",
            "Tomato___Target_Spot 457\n",
            "Tomato___Spider_mites Two-spotted_spider_mite 435\n",
            "Tomato___Tomato_mosaic_virus 448\n",
            "Tomato___Leaf_Mold 470\n",
            "Tomato___healthy 481\n",
            "Tomato___Septoria_leaf_spot 436\n",
            "Tomato___Late_blight 463\n",
            "Tomato___Tomato_Yellow_Leaf_Curl_Virus 490\n"
          ]
        }
      ]
    },
    {
      "cell_type": "code",
      "metadata": {
        "id": "sF8CxisADZu9"
      },
      "source": [
        "def img_Data(dir_path,target_size,batch,class_list,preprocessing,):\n",
        "  if preprocessing:\n",
        "    gen_object = ImageDataGenerator(preprocessing_function=preprocessing)\n",
        "  else:\n",
        "    gen_object = ImageDataGenerator()\n",
        "\n",
        "  return(gen_object.flow_from_directory(dir_path,target_size,batch_size=batch,class_mode='sparse',classes=class_list,shuffle=True))"
      ],
      "execution_count": null,
      "outputs": []
    },
    {
      "cell_type": "code",
      "metadata": {
        "colab": {
          "base_uri": "https://localhost:8080/"
        },
        "id": "rbc0WfYgH-NA",
        "outputId": "18e3e0a7-2abb-4046-cb43-b710d359d4d1"
      },
      "source": [
        "train_data_gen = img_Data(\"train\",(224,224),500,os.listdir(\"train\"),preprocess_input)\n",
        "valid_data_gen = img_Data(\"valid\",(224,224),500,os.listdir(\"valid\"),preprocess_input)"
      ],
      "execution_count": null,
      "outputs": [
        {
          "output_type": "stream",
          "name": "stdout",
          "text": [
            "Found 18345 images belonging to 10 classes.\n",
            "Found 4585 images belonging to 10 classes.\n"
          ]
        }
      ]
    },
    {
      "cell_type": "code",
      "metadata": {
        "colab": {
          "base_uri": "https://localhost:8080/"
        },
        "id": "V-YAc1m9IaGd",
        "outputId": "cfee4c8c-57e4-4fcc-a3f4-359dac23e6b8"
      },
      "source": [
        "base_model = tf.keras.applications.mobilenet_v2.MobileNetV2(\n",
        "             input_shape=(224,224,3), alpha=1.0, include_top=False, weights='imagenet',\n",
        "             input_tensor=None, pooling=None, classes=1000,\n",
        "             classifier_activation='softmax')"
      ],
      "execution_count": null,
      "outputs": [
        {
          "output_type": "stream",
          "name": "stdout",
          "text": [
            "Downloading data from https://storage.googleapis.com/tensorflow/keras-applications/mobilenet_v2/mobilenet_v2_weights_tf_dim_ordering_tf_kernels_1.0_224_no_top.h5\n",
            "9412608/9406464 [==============================] - 0s 0us/step\n",
            "9420800/9406464 [==============================] - 0s 0us/step\n"
          ]
        }
      ]
    },
    {
      "cell_type": "code",
      "metadata": {
        "id": "VBlyChsENi9s"
      },
      "source": [
        "base_model.trainable = False"
      ],
      "execution_count": null,
      "outputs": []
    },
    {
      "cell_type": "code",
      "metadata": {
        "id": "sajjOUh0NuDQ"
      },
      "source": [
        "model = tf.keras.models.Sequential()\n",
        "model.add(base_model)\n",
        "model.add(GlobalAvgPool2D())\n",
        "model.add(Dense(1024,activation='relu'))\n",
        "model.add(Dense(10,activation='softmax'))\n",
        "\n",
        "model.compile(optimizer='adam',loss='sparse_categorical_crossentropy',metrics=['accuracy'])"
      ],
      "execution_count": null,
      "outputs": []
    },
    {
      "cell_type": "code",
      "metadata": {
        "id": "pRTXkUtCaJTd"
      },
      "source": [
        "elst = callbacks.EarlyStopping(monitor='val_loss',patience=5,mode='min')\n",
        "save_ck = callbacks.ModelCheckpoint('.mdl_wts.hdf5',save_best_only=True,monitor='val_loss',mode='min')"
      ],
      "execution_count": null,
      "outputs": []
    },
    {
      "cell_type": "code",
      "metadata": {
        "colab": {
          "base_uri": "https://localhost:8080/"
        },
        "id": "yQooHnAiSu6e",
        "outputId": "f940bf0e-7b32-4885-d015-198ccde2ad87"
      },
      "source": [
        "model.summary()"
      ],
      "execution_count": null,
      "outputs": [
        {
          "output_type": "stream",
          "name": "stdout",
          "text": [
            "Model: \"sequential\"\n",
            "_________________________________________________________________\n",
            " Layer (type)                Output Shape              Param #   \n",
            "=================================================================\n",
            " mobilenetv2_1.00_224 (Funct  (None, 7, 7, 1280)       2257984   \n",
            " ional)                                                          \n",
            "                                                                 \n",
            " global_average_pooling2d (G  (None, 1280)             0         \n",
            " lobalAveragePooling2D)                                          \n",
            "                                                                 \n",
            " dense (Dense)               (None, 1024)              1311744   \n",
            "                                                                 \n",
            " dense_1 (Dense)             (None, 10)                10250     \n",
            "                                                                 \n",
            "=================================================================\n",
            "Total params: 3,579,978\n",
            "Trainable params: 1,321,994\n",
            "Non-trainable params: 2,257,984\n",
            "_________________________________________________________________\n"
          ]
        }
      ]
    },
    {
      "cell_type": "code",
      "metadata": {
        "colab": {
          "base_uri": "https://localhost:8080/"
        },
        "id": "luSdjwIPb16u",
        "outputId": "1505b07b-bf25-4230-da1e-427b94fceafc"
      },
      "source": [
        "model.fit(train_data_gen,batch_size=500,validation_data=valid_data_gen,callbacks=[elst,save_ck],epochs=10)"
      ],
      "execution_count": null,
      "outputs": [
        {
          "output_type": "stream",
          "name": "stdout",
          "text": [
            "Epoch 1/10\n",
            "37/37 [==============================] - ETA: 0s - loss: 0.8708 - accuracy: 0.7181  "
          ]
        },
        {
          "output_type": "stream",
          "name": "stderr",
          "text": [
            "/usr/local/lib/python3.7/dist-packages/keras/engine/functional.py:1410: CustomMaskWarning: Custom mask layers require a config and must override get_config. When loading, the custom mask layer must be passed to the custom_objects argument.\n",
            "  layer_config = serialize_layer_fn(layer)\n"
          ]
        },
        {
          "output_type": "stream",
          "name": "stdout",
          "text": [
            "\b\b\b\b\b\b\b\b\b\b\b\b\b\b\b\b\b\b\b\b\b\b\b\b\b\b\b\b\b\b\b\b\b\b\b\b\b\b\b\b\b\b\b\b\b\b\b\b\b\b\b\b\b\b\b\b\b\b\b\b\b\b\b\b\b\b\b\b\b\b\b\b\b\b\b\b\b\b\b\b\b\b\r37/37 [==============================] - 5464s 148s/step - loss: 0.8708 - accuracy: 0.7181 - val_loss: 7.8735 - val_accuracy: 0.0979\n",
            "Epoch 2/10\n",
            "37/37 [==============================] - 91s 2s/step - loss: 0.3209 - accuracy: 0.8927 - val_loss: 8.9923 - val_accuracy: 0.0951\n",
            "Epoch 3/10\n",
            "37/37 [==============================] - 99s 3s/step - loss: 0.2380 - accuracy: 0.9225 - val_loss: 9.5676 - val_accuracy: 0.0912\n",
            "Epoch 4/10\n",
            "37/37 [==============================] - 98s 3s/step - loss: 0.1922 - accuracy: 0.9401 - val_loss: 10.3814 - val_accuracy: 0.0890\n",
            "Epoch 5/10\n",
            "37/37 [==============================] - 95s 3s/step - loss: 0.1537 - accuracy: 0.9549 - val_loss: 10.8588 - val_accuracy: 0.0870\n",
            "Epoch 6/10\n",
            "37/37 [==============================] - 95s 3s/step - loss: 0.1233 - accuracy: 0.9644 - val_loss: 11.4376 - val_accuracy: 0.0931\n"
          ]
        },
        {
          "output_type": "execute_result",
          "data": {
            "text/plain": [
              "<keras.callbacks.History at 0x7fb4aea66f10>"
            ]
          },
          "metadata": {},
          "execution_count": 13
        }
      ]
    }
  ]
}